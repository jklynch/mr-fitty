{
 "cells": [
  {
   "cell_type": "markdown",
   "metadata": {},
   "source": [
    "Note: when using MKL set OMP_NUM_THREADS=1."
   ]
  },
  {
   "cell_type": "code",
   "execution_count": 1,
   "metadata": {},
   "outputs": [],
   "source": [
    "import glob\n",
    "import itertools\n",
    "import logging\n",
    "from operator import attrgetter\n",
    "import os\n",
    "import pprint\n",
    "import sys\n",
    "import time\n",
    "\n",
    "import matplotlib.pyplot as plt\n",
    "%matplotlib inline\n",
    "import scipy.misc\n",
    "\n",
    "import numpy as np\n",
    "import pandas as pd\n",
    "import scipy.cluster.hierarchy as hc\n",
    "from scipy.spatial.distance import pdist\n",
    "\n",
    "import sklearn.utils\n",
    "\n",
    "import mrfitty\n",
    "from mrfitty.base import (\n",
    "    AdaptiveEnergyRangeBuilder,\n",
    "    InterpolatedSpectrumSet,\n",
    "    ReferenceSpectrum,\n",
    ")\n",
    "from mrfitty.best_subset_selection import BestSubsetSelectionFitTask\n",
    "from mrfitty.linear_model import NonNegativeLinearRegression\n",
    "\n",
    "logging.basicConfig(level=logging.WARN)"
   ]
  },
  {
   "cell_type": "code",
   "execution_count": 2,
   "metadata": {},
   "outputs": [
    {
     "name": "stdout",
     "output_type": "stream",
     "text": [
      "sample data is installed at \"/home/jklynch/host/project/mr-fitty/src/example/arsenic\"\n"
     ]
    },
    {
     "data": {
      "text/plain": [
       "True"
      ]
     },
     "execution_count": 2,
     "metadata": {},
     "output_type": "execute_result"
    }
   ],
   "source": [
    "src_path, _ = os.path.split(mrfitty.__path__[0])\n",
    "sample_data_dir_path = os.path.join(src_path, 'example', 'arsenic')\n",
    "print('sample data is installed at \"{}\"'.format(sample_data_dir_path))\n",
    "os.path.exists(sample_data_dir_path)"
   ]
  },
  {
   "cell_type": "markdown",
   "metadata": {},
   "source": [
    "Read all sample reference and unknown spectra."
   ]
  },
  {
   "cell_type": "code",
   "execution_count": 3,
   "metadata": {},
   "outputs": [
    {
     "name": "stdout",
     "output_type": "stream",
     "text": [
      "sample data reference glob: /home/jklynch/host/project/mr-fitty/src/example/arsenic/reference/*als_cal*.e\n",
      "sample data unknown glob: /home/jklynch/host/project/mr-fitty/src/example/arsenic/unknown/*.e\n"
     ]
    }
   ],
   "source": [
    "sample_data_reference_glob = os.path.join(sample_data_dir_path, 'reference/*als_cal*.e')\n",
    "print('sample data reference glob: {}'.format(sample_data_reference_glob))\n",
    "sample_data_unknown_glob = os.path.join(sample_data_dir_path, 'unknown/*.e')\n",
    "print('sample data unknown glob: {}'.format(sample_data_unknown_glob))"
   ]
  },
  {
   "cell_type": "code",
   "execution_count": 4,
   "metadata": {},
   "outputs": [
    {
     "name": "stdout",
     "output_type": "stream",
     "text": [
      "sample data reference file count: 20\n",
      "sample data unknown file count: 16\n"
     ]
    }
   ],
   "source": [
    "sample_data_reference_set, _ = list(ReferenceSpectrum.read_all([sample_data_reference_glob]))\n",
    "sample_data_reference_list = list(sample_data_reference_set)\n",
    "print('sample data reference file count: {}'.format(len(sample_data_reference_list)))\n",
    "sample_data_unknown_set, _ = list(ReferenceSpectrum.read_all([sample_data_unknown_glob]))\n",
    "sample_data_unknown_list = list(sample_data_unknown_set)\n",
    "print('sample data unknown file count: {}'.format(len(sample_data_unknown_list)))"
   ]
  },
  {
   "cell_type": "markdown",
   "metadata": {},
   "source": [
    "What are the maximum and minimum reference energies?"
   ]
  },
  {
   "cell_type": "code",
   "execution_count": 5,
   "metadata": {},
   "outputs": [
    {
     "name": "stdout",
     "output_type": "stream",
     "text": [
      "reference minimum energy: 11830.00\n",
      "reference maximum energy: 12097.14\n"
     ]
    }
   ],
   "source": [
    "reference_min_energy = np.max([r.data_df.index.values[0] for r in sample_data_reference_list])\n",
    "reference_max_energy = np.min([r.data_df.index.values[-1] for r in sample_data_reference_list])\n",
    "print('reference minimum energy: {:5.2f}'.format(reference_min_energy))\n",
    "print('reference maximum energy: {:5.2f}'.format(reference_max_energy))"
   ]
  },
  {
   "cell_type": "markdown",
   "metadata": {},
   "source": [
    "What are the maximum and minimum unknown spectrum energies?"
   ]
  },
  {
   "cell_type": "code",
   "execution_count": 6,
   "metadata": {},
   "outputs": [
    {
     "name": "stdout",
     "output_type": "stream",
     "text": [
      "minimum energy: 11777.73\n",
      "maximum energy: 12171.83\n"
     ]
    }
   ],
   "source": [
    "min_energy = np.max([r.data_df.index.values[0] for r in sample_data_unknown_list])\n",
    "max_energy = np.min([r.data_df.index.values[-1] for r in sample_data_unknown_list])\n",
    "print('minimum energy: {:5.2f}'.format(min_energy))\n",
    "print('maximum energy: {:5.2f}'.format(max_energy))"
   ]
  },
  {
   "cell_type": "markdown",
   "metadata": {},
   "source": [
    "Plot one fit with training and testing points marked."
   ]
  },
  {
   "cell_type": "code",
   "execution_count": 12,
   "metadata": {},
   "outputs": [
    {
     "name": "stdout",
     "output_type": "stream",
     "text": [
      "224\n",
      "0\n"
     ]
    },
    {
     "ename": "IndexError",
     "evalue": "too many indices for array",
     "output_type": "error",
     "traceback": [
      "\u001b[0;31m---------------------------------------------------------------------------\u001b[0m",
      "\u001b[0;31mIndexError\u001b[0m                                Traceback (most recent call last)",
      "\u001b[0;32m<ipython-input-12-24f7172ec1ab>\u001b[0m in \u001b[0;36m<module>\u001b[0;34m\u001b[0m\n\u001b[1;32m     18\u001b[0m     \u001b[0mtrain_test_ndx\u001b[0m \u001b[0;34m=\u001b[0m \u001b[0mnp\u001b[0m\u001b[0;34m.\u001b[0m\u001b[0mzeros_like\u001b[0m\u001b[0;34m(\u001b[0m\u001b[0munknown_0\u001b[0m\u001b[0;34m.\u001b[0m\u001b[0mdata_df\u001b[0m\u001b[0;34m.\u001b[0m\u001b[0mshape\u001b[0m\u001b[0;34m[\u001b[0m\u001b[0;36m0\u001b[0m\u001b[0;34m]\u001b[0m\u001b[0;34m)\u001b[0m\u001b[0;34m\u001b[0m\u001b[0;34m\u001b[0m\u001b[0m\n\u001b[1;32m     19\u001b[0m     \u001b[0mprint\u001b[0m\u001b[0;34m(\u001b[0m\u001b[0mtrain_test_ndx\u001b[0m\u001b[0;34m)\u001b[0m\u001b[0;34m\u001b[0m\u001b[0;34m\u001b[0m\u001b[0m\n\u001b[0;32m---> 20\u001b[0;31m     \u001b[0mtrain_test_ndx\u001b[0m\u001b[0;34m[\u001b[0m\u001b[0mtest_index\u001b[0m\u001b[0;34m]\u001b[0m \u001b[0;34m=\u001b[0m \u001b[0;36m1\u001b[0m\u001b[0;34m\u001b[0m\u001b[0;34m\u001b[0m\u001b[0m\n\u001b[0m\u001b[1;32m     21\u001b[0m     \u001b[0mf\u001b[0m\u001b[0;34m,\u001b[0m \u001b[0max\u001b[0m \u001b[0;34m=\u001b[0m \u001b[0mplt\u001b[0m\u001b[0;34m.\u001b[0m\u001b[0msubplots\u001b[0m\u001b[0;34m(\u001b[0m\u001b[0;34m)\u001b[0m\u001b[0;34m\u001b[0m\u001b[0;34m\u001b[0m\u001b[0m\n\u001b[1;32m     22\u001b[0m     \u001b[0max\u001b[0m\u001b[0;34m.\u001b[0m\u001b[0mscatter\u001b[0m\u001b[0;34m(\u001b[0m\u001b[0munknown_0\u001b[0m\u001b[0;34m.\u001b[0m\u001b[0mdata_df\u001b[0m\u001b[0;34m.\u001b[0m\u001b[0mindex\u001b[0m\u001b[0;34m,\u001b[0m \u001b[0munknown_0\u001b[0m\u001b[0;34m.\u001b[0m\u001b[0mdata_df\u001b[0m\u001b[0;34m.\u001b[0m\u001b[0mnorm\u001b[0m\u001b[0;34m,\u001b[0m \u001b[0mc\u001b[0m\u001b[0;34m=\u001b[0m\u001b[0mtrain_test_ndx\u001b[0m\u001b[0;34m,\u001b[0m \u001b[0mmarker\u001b[0m\u001b[0;34m=\u001b[0m\u001b[0;34m'.'\u001b[0m\u001b[0;34m)\u001b[0m\u001b[0;34m\u001b[0m\u001b[0;34m\u001b[0m\u001b[0m\n",
      "\u001b[0;31mIndexError\u001b[0m: too many indices for array"
     ]
    }
   ],
   "source": [
    "unknown_0 = sample_data_unknown_list[0]\n",
    "\n",
    "fitter = BestSubsetSelectionFitTask(\n",
    "    ls=NonNegativeLinearRegression,\n",
    "    reference_spectrum_list=sample_data_reference_list[0:3],\n",
    "    unknown_spectrum_list=(unknown_0, ),\n",
    "    energy_range_builder=AdaptiveEnergyRangeBuilder(),\n",
    "    best_fits_plot_limit=0,\n",
    "    component_count_range=(1,3+1)\n",
    ")\n",
    "\n",
    "fit_0, _ = fitter.fit(unknown_spectrum=sample_data_unknown_list[0])\n",
    "\n",
    "for i, (predicted_b, train_index, test_index) in enumerate(fitter.fit_and_predict(fit_0)):\n",
    "    #train_test_ndx = np.random.choice([0, 1], unknown_0.data_df.shape[0], p=[0.2, 0.8])\n",
    "    #predicted_b, train_index, test_index = fitter.fit_and_predict(fit_0)\n",
    "    print(unknown_0.data_df.shape[0])\n",
    "    train_test_ndx = np.zeros_like(unknown_0.data_df.shape[0])\n",
    "    print(train_test_ndx)\n",
    "    train_test_ndx[test_index] = 1\n",
    "    f, ax = plt.subplots()\n",
    "    ax.scatter(unknown_0.data_df.index, unknown_0.data_df.norm, c=train_test_ndx, marker='.')\n",
    "    plt.show()"
   ]
  },
  {
   "cell_type": "code",
   "execution_count": null,
   "metadata": {},
   "outputs": [],
   "source": []
  }
 ],
 "metadata": {
  "anaconda-cloud": {},
  "kernelspec": {
   "display_name": "Python 3",
   "language": "python",
   "name": "python3"
  },
  "language_info": {
   "codemirror_mode": {
    "name": "ipython",
    "version": 3
   },
   "file_extension": ".py",
   "mimetype": "text/x-python",
   "name": "python",
   "nbconvert_exporter": "python",
   "pygments_lexer": "ipython3",
   "version": "3.7.1"
  }
 },
 "nbformat": 4,
 "nbformat_minor": 1
}
