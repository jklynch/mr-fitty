{
 "cells": [
  {
   "cell_type": "markdown",
   "metadata": {},
   "source": [
    "This notebook demonstrates how code from the mr-fitty package can be used to develop additional tools for working with XAFS data.\n",
    "\n",
    "Note: when using MKL set OMP_NUM_THREADS=1.\n",
    "\n",
    "Install mr-fitty with pip before running this notebook."
   ]
  },
  {
   "cell_type": "code",
   "execution_count": null,
   "metadata": {},
   "outputs": [],
   "source": [
    "import glob\n",
    "import itertools\n",
    "import logging\n",
    "from operator import attrgetter\n",
    "import os\n",
    "import pprint\n",
    "import sys\n",
    "import time\n",
    "\n",
    "import matplotlib.pyplot as plt\n",
    "%matplotlib inline\n",
    "import scipy.misc\n",
    "\n",
    "import numpy as np\n",
    "import pandas as pd\n",
    "import scipy.cluster.hierarchy as hc\n",
    "from scipy.spatial.distance import pdist\n",
    "\n",
    "import sklearn.utils\n",
    "\n",
    "import mrfitty\n",
    "\n",
    "from mrfitty.base import ReferenceSpectrum\n",
    "from mrfitty.base import InterpolatedSpectrumSet\n",
    "\n",
    "logging.basicConfig(level=logging.WARN)"
   ]
  },
  {
   "cell_type": "code",
   "execution_count": null,
   "metadata": {},
   "outputs": [],
   "source": [
    "##sample_data_dir_path = os.path.join(sys.prefix, 'experiment_arsenic')\n",
    "sample_data_dir_path = os.path.join(\n",
    "    os.path.dirname(mrfitty.__path__[0]),\n",
    "    'example',\n",
    "    'arsenic'\n",
    ")  \n",
    "\n",
    "print('sample data is installed at \"{}\"'.format(sample_data_dir_path))\n",
    "os.path.exists(sample_data_dir_path)"
   ]
  },
  {
   "cell_type": "markdown",
   "metadata": {},
   "source": [
    "Read all sample reference and unknown spectra."
   ]
  },
  {
   "cell_type": "code",
   "execution_count": null,
   "metadata": {},
   "outputs": [],
   "source": [
    "sample_data_reference_glob = os.path.join(sample_data_dir_path, 'reference/*als_cal*.e')\n",
    "print('sample data reference glob: {}'.format(sample_data_reference_glob))\n",
    "sample_data_unknown_glob = os.path.join(sample_data_dir_path, 'unknown/*.e')\n",
    "print('sample data unknown glob: {}'.format(sample_data_unknown_glob))"
   ]
  },
  {
   "cell_type": "code",
   "execution_count": null,
   "metadata": {},
   "outputs": [],
   "source": [
    "sample_data_reference_list, _ = list(ReferenceSpectrum.read_all([sample_data_reference_glob]))\n",
    "print('sample data reference file count: {}'.format(len(sample_data_reference_list)))\n",
    "sample_data_unknown_list, _ = list(ReferenceSpectrum.read_all([sample_data_unknown_glob]))\n",
    "print('sample data unknown file count: {}'.format(len(sample_data_unknown_list)))"
   ]
  },
  {
   "cell_type": "markdown",
   "metadata": {},
   "source": [
    "What are the maximum and minimum reference energies?"
   ]
  },
  {
   "cell_type": "code",
   "execution_count": null,
   "metadata": {},
   "outputs": [],
   "source": [
    "reference_min_energy = np.max([r.data_df.energy.values[0] for r in sample_data_reference_list])\n",
    "reference_max_energy = np.min([r.data_df.energy.values[-1] for r in sample_data_reference_list])\n",
    "print('reference minimum energy: {:5.2f}'.format(reference_min_energy))\n",
    "print('reference maximum energy: {:5.2f}'.format(reference_max_energy))"
   ]
  },
  {
   "cell_type": "markdown",
   "metadata": {},
   "source": [
    "What are the maximum and minimum unknown spectrum energies?"
   ]
  },
  {
   "cell_type": "code",
   "execution_count": null,
   "metadata": {},
   "outputs": [],
   "source": [
    "min_energy = np.max([r.data_df.energy.values[0] for r in sample_data_unknown_list])\n",
    "max_energy = np.min([r.data_df.energy.values[-1] for r in sample_data_unknown_list])\n",
    "print('minimum energy: {:5.2f}'.format(min_energy))\n",
    "print('maximum energy: {:5.2f}'.format(max_energy))"
   ]
  },
  {
   "cell_type": "code",
   "execution_count": null,
   "metadata": {},
   "outputs": [],
   "source": [
    "interpolate_energy_range = np.linspace(start=reference_min_energy, stop=reference_max_energy, num=200)\n",
    "print('interpolate_energy_range.shape: {}'.format(interpolate_energy_range.shape))\n",
    "print('interpolate_energy_range:\\n{}'.format(pprint.pformat(interpolate_energy_range.tolist()[:10])))"
   ]
  },
  {
   "cell_type": "code",
   "execution_count": null,
   "metadata": {},
   "outputs": [],
   "source": [
    "# construct a single DataFrame with all interpolated reference and unknown spectra\n",
    "interpolated_sample_data_reference_and_unknown_df = InterpolatedSpectrumSet.get_interpolated_spectrum_set_df(\n",
    "    energy_range=interpolate_energy_range,\n",
    "    spectrum_set=set(itertools.chain(sample_data_reference_list, sample_data_unknown_list)))\n",
    "interpolated_sample_data_reference_and_unknown_df.plot().legend(loc='center left', bbox_to_anchor=(1, 0.5))\n",
    "interpolated_sample_data_reference_and_unknown_df.head()"
   ]
  },
  {
   "cell_type": "code",
   "execution_count": null,
   "metadata": {},
   "outputs": [],
   "source": [
    "# this is a helper function for cluster_with_sig_cut\n",
    "def permute_row_elements(df):\n",
    "    for i in range(df.shape[0]):\n",
    "        df.values[i, :] = sklearn.utils.shuffle(df.values[i, :])\n",
    "    return df\n",
    "# demonstrate permuting row elements\n",
    "x_df = pd.DataFrame(data=np.array(range(9)).reshape((3,3)))\n",
    "print('before permuting row elements:')\n",
    "print(x_df.head())\n",
    "permute_row_elements(x_df)\n",
    "print('after permuting row elements:')\n",
    "print(x_df)"
   ]
  },
  {
   "cell_type": "code",
   "execution_count": null,
   "metadata": {},
   "outputs": [],
   "source": [
    "def cluster_with_sig_cut(variable_by_sample_df, title, pdist_metric, linkage_method):\n",
    "    #pdist_metric = 'correlation'\n",
    "    distance_for_sample_pairs = pdist(X=np.transpose(variable_by_sample_df.values), metric=pdist_metric)\n",
    "    print('{}: {} sample pairs'.format(title, len(distance_for_sample_pairs)))\n",
    "    plt.figure()\n",
    "    plt.title(title)\n",
    "    plt.hist(distance_for_sample_pairs)\n",
    "    plt.xlabel('{} distance'.format(pdist_metric))\n",
    "    plt.ylabel('{} pairs'.format(variable_by_sample_df.shape))\n",
    "    plt.show()\n",
    "\n",
    "    resample_count = 1000\n",
    "    expected_distance_list = []\n",
    "    for i in range(resample_count):\n",
    "        # permute the elements of each row of variable_by_sample_df\n",
    "        p_variable_by_sample_df = permute_row_elements(variable_by_sample_df.copy())\n",
    "        p_distance_for_sample_pairs = pdist(X=np.transpose(p_variable_by_sample_df.values), metric=pdist_metric)\n",
    "        p_linkage_distance_variable_by_sample = hc.linkage(y=p_distance_for_sample_pairs, method=linkage_method)\n",
    "        p_dendrogram = hc.dendrogram(Z=p_linkage_distance_variable_by_sample, no_plot=True)\n",
    "        expected_distance_list.extend([d for (_, _, d, _) in p_dendrogram['dcoord']])\n",
    "\n",
    "    p = 95.0\n",
    "    alpha = 1.0 - p/100.0\n",
    "    cutoff_distance = np.percentile(expected_distance_list, q=p)\n",
    "    print('cutoff distance is {}'.format(cutoff_distance))\n",
    "\n",
    "    plt.figure()\n",
    "    plt.hist(expected_distance_list)\n",
    "    plt.title('dendrogram distance null distribution')\n",
    "    plt.show()\n",
    "\n",
    "    linkage_distance_variable_by_sample = hc.linkage(y=distance_for_sample_pairs, method=linkage_method)\n",
    "    plt.figure(figsize=(3.7, 7))\n",
    "    dendrogram = hc.dendrogram(\n",
    "        Z=linkage_distance_variable_by_sample,\n",
    "        orientation='left',\n",
    "        labels=variable_by_sample_df.columns)\n",
    "    \n",
    "    icoords = [i for i in itertools.chain(dendrogram['icoord'])]\n",
    "    \n",
    "    plt.vlines(cutoff_distance, ymin=np.min(icoords), ymax=np.max(icoords))\n",
    "    plt.title('{}\\n{} linkage'.format(title, linkage_method))\n",
    "    plt.xlabel('{} distance'.format(pdist_metric))\n",
    "    plt.savefig(title + '.pdf', format='pdf')\n",
    "    plt.show()\n",
    "    \n"
   ]
  },
  {
   "cell_type": "code",
   "execution_count": null,
   "metadata": {},
   "outputs": [],
   "source": [
    "for core in ['ott3',]:\n",
    "\n",
    "    ref_column_list = tuple([\n",
    "        c for \n",
    "        c in interpolated_sample_data_reference_and_unknown_df.columns \n",
    "        if any(['als_cal' in c, 'sln' in c, 'OA' in c])])\n",
    "\n",
    "    print('reference column list has {} elements:\\n{}'.format(len(ref_column_list), pprint.pformat(ref_column_list)))\n",
    "\n",
    "    unknown_column_list = tuple([\n",
    "        c for \n",
    "        c in interpolated_sample_data_reference_and_unknown_df.columns\n",
    "        if core in c.lower()])\n",
    "\n",
    "    print('core {} column list has {} elements:\\n{}'.format(core, len(unknown_column_list), pprint.pformat(unknown_column_list)))\n",
    "\n",
    "    unknown_interpolated_df = interpolated_sample_data_reference_and_unknown_df.loc[:, unknown_column_list]\n",
    "    unknown_interpolated_df.plot().legend(loc='center left', bbox_to_anchor=(1, 0.5))\n",
    "    unknown_interpolated_df.head()\n",
    "\n",
    "    unknown_and_reference_column_list = tuple(itertools.chain(unknown_column_list, ref_column_list))\n",
    "    unknown_and_reference_interpolated_df = interpolated_sample_data_reference_and_unknown_df.loc[:, unknown_and_reference_column_list]\n",
    "    unknown_and_reference_interpolated_df.plot().legend(loc='center left', bbox_to_anchor=(1, 0.5))\n",
    "    unknown_and_reference_interpolated_df.head()\n",
    "\n",
    "    cluster_with_sig_cut(\n",
    "        unknown_interpolated_df,\n",
    "        title='As unknown {} ({} spectra)'.format(core, unknown_interpolated_df.shape[1]),\n",
    "        pdist_metric='correlation',\n",
    "        linkage_method='complete')\n",
    "\n",
    "    cluster_with_sig_cut(\n",
    "        unknown_and_reference_interpolated_df,\n",
    "        title='As unknown {} and references ({} spectra)'.format(core, unknown_and_reference_interpolated_df.shape[1]),\n",
    "        pdist_metric='correlation',\n",
    "        linkage_method='complete')\n"
   ]
  },
  {
   "cell_type": "code",
   "execution_count": null,
   "metadata": {},
   "outputs": [],
   "source": []
  }
 ],
 "metadata": {
  "anaconda-cloud": {},
  "kernelspec": {
   "display_name": "Python 3",
   "language": "python",
   "name": "python3"
  },
  "language_info": {
   "codemirror_mode": {
    "name": "ipython",
    "version": 3
   },
   "file_extension": ".py",
   "mimetype": "text/x-python",
   "name": "python",
   "nbconvert_exporter": "python",
   "pygments_lexer": "ipython3",
   "version": "3.7.0"
  }
 },
 "nbformat": 4,
 "nbformat_minor": 1
}
