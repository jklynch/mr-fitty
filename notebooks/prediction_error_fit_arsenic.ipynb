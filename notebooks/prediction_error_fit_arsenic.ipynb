{
 "cells": [
  {
   "cell_type": "markdown",
   "metadata": {},
   "source": [
    "Note: when using MKL set OMP_NUM_THREADS=1."
   ]
  },
  {
   "cell_type": "code",
   "execution_count": null,
   "metadata": {},
   "outputs": [],
   "source": [
    "import glob\n",
    "import itertools\n",
    "import logging\n",
    "from operator import attrgetter\n",
    "import os\n",
    "import pprint\n",
    "import sys\n",
    "import time\n",
    "\n",
    "import matplotlib.gridspec as gridspec\n",
    "import matplotlib.pyplot as plt\n",
    "%matplotlib inline\n",
    "import scipy.misc\n",
    "\n",
    "import numpy as np\n",
    "import pandas as pd\n",
    "import scipy.cluster.hierarchy as hc\n",
    "from scipy.spatial.distance import pdist\n",
    "\n",
    "import sklearn.utils\n",
    "\n",
    "import mrfitty\n",
    "from mrfitty.base import (\n",
    "    AdaptiveEnergyRangeBuilder,\n",
    "    InterpolatedSpectrumSet,\n",
    "    ReferenceSpectrum,\n",
    ")\n",
    "from mrfitty.prediction_error_fit import PredictionErrorFitTask\n",
    "from mrfitty.linear_model import NonNegativeLinearRegression\n",
    "\n",
    "logging.basicConfig(level=logging.WARN)\n",
    "\n",
    "print(plt.get_backend())"
   ]
  },
  {
   "cell_type": "code",
   "execution_count": null,
   "metadata": {},
   "outputs": [],
   "source": [
    "src_path, _ = os.path.split(mrfitty.__path__[0])\n",
    "sample_data_dir_path = os.path.join(src_path, 'mrfitty', 'example', 'arsenic')\n",
    "print('sample data is installed at \"{}\"'.format(sample_data_dir_path))\n",
    "os.path.exists(sample_data_dir_path)"
   ]
  },
  {
   "cell_type": "markdown",
   "metadata": {},
   "source": [
    "Read all sample reference and unknown spectra."
   ]
  },
  {
   "cell_type": "code",
   "execution_count": null,
   "metadata": {},
   "outputs": [],
   "source": [
    "sample_data_reference_glob = os.path.join(sample_data_dir_path, 'reference/*als_cal*.e')\n",
    "print('sample data reference glob: {}'.format(sample_data_reference_glob))\n",
    "sample_data_unknown_glob = os.path.join(sample_data_dir_path, 'unknown/*.e')\n",
    "print('sample data unknown glob: {}'.format(sample_data_unknown_glob))"
   ]
  },
  {
   "cell_type": "code",
   "execution_count": null,
   "metadata": {},
   "outputs": [],
   "source": [
    "sample_data_reference_set, _ = list(ReferenceSpectrum.read_all([sample_data_reference_glob]))\n",
    "sample_data_reference_list = list(sample_data_reference_set)\n",
    "print('sample data reference file count: {}'.format(len(sample_data_reference_list)))\n",
    "sample_data_unknown_set, _ = list(ReferenceSpectrum.read_all([sample_data_unknown_glob]))\n",
    "sample_data_unknown_list = sorted(list(sample_data_unknown_set), key=lambda s: s.file_name)\n",
    "print('sample data unknown file count: {}'.format(len(sample_data_unknown_list)))"
   ]
  },
  {
   "cell_type": "markdown",
   "metadata": {},
   "source": [
    "What are the maximum and minimum reference energies?"
   ]
  },
  {
   "cell_type": "code",
   "execution_count": null,
   "metadata": {},
   "outputs": [],
   "source": [
    "reference_min_energy = np.max([r.data_df.index.values[0] for r in sample_data_reference_list])\n",
    "reference_max_energy = np.min([r.data_df.index.values[-1] for r in sample_data_reference_list])\n",
    "print('reference minimum energy: {:5.2f}'.format(reference_min_energy))\n",
    "print('reference maximum energy: {:5.2f}'.format(reference_max_energy))"
   ]
  },
  {
   "cell_type": "markdown",
   "metadata": {},
   "source": [
    "What are the maximum and minimum unknown spectrum energies?"
   ]
  },
  {
   "cell_type": "code",
   "execution_count": null,
   "metadata": {},
   "outputs": [],
   "source": [
    "min_energy = np.max([r.data_df.index.values[0] for r in sample_data_unknown_list])\n",
    "max_energy = np.min([r.data_df.index.values[-1] for r in sample_data_unknown_list])\n",
    "print('minimum energy: {:5.2f}'.format(min_energy))\n",
    "print('maximum energy: {:5.2f}'.format(max_energy))"
   ]
  },
  {
   "cell_type": "markdown",
   "metadata": {},
   "source": [
    "Plot one fit with training and testing points marked."
   ]
  },
  {
   "cell_type": "code",
   "execution_count": null,
   "metadata": {},
   "outputs": [],
   "source": [
    "unknown_0 = sample_data_unknown_list[0]\n",
    "\n",
    "fitter = PredictionErrorFitTask(\n",
    "    ls=NonNegativeLinearRegression,\n",
    "    reference_spectrum_list=sample_data_reference_list[0:3],\n",
    "    unknown_spectrum_list=(unknown_0, ),\n",
    "    energy_range_builder=AdaptiveEnergyRangeBuilder(),\n",
    "    best_fits_plot_limit=0,\n",
    "    component_count_range=(1,3+1)\n",
    ")\n",
    "\n",
    "fit_0, _ = fitter.fit(unknown_spectrum=sample_data_unknown_list[0])\n",
    "\n",
    "normalized_C_p_list, model_residuals = fitter.calculate_prediction_error_list(fit_0, n_splits=3000)\n",
    "\n",
    "# model_residuals looks like\n",
    "#  NaN NaN 0.1 NaN 0.1 0.1 NaN\n",
    "#  0.1 NaN 0.1 0.1 NaN NaN NaN\n",
    "#  0.1 NaN NaN NaN 0.1 NaN 0.1\n",
    "\n",
    "def classical_confidence_interval_of_mean(C_p_list):\n",
    "    z_star = 1.96\n",
    "    Z = z_star * (np.std(C_p_list)/np.sqrt(len(C_p_list)))\n",
    "    mean_C_p = np.mean(C_p_list)\n",
    "    lo = mean_C_p - Z\n",
    "    hi = mean_C_p + Z\n",
    "    return lo, hi\n",
    "    \n",
    "def three_plots(unknown, C_p_list, hist_ylim=None):\n",
    "    plt.figure(figsize=(10, 6))\n",
    "    gs = gridspec.GridSpec(nrows=1, ncols=12)\n",
    "    gs.update(wspace=1.0)\n",
    "    ax_line = plt.subplot(gs[0, 0:8])\n",
    "    ax_box = plt.subplot(gs[0, 8:10])\n",
    "    ax_hist = plt.subplot(gs[0, 10:])\n",
    "\n",
    "    if hist_ylim is None:\n",
    "        pass\n",
    "    else:\n",
    "        ax_box.set_ylim(hist_ylim)\n",
    "        ax_hist.set_ylim(hist_ylim)\n",
    "    \n",
    "    ci_mean_lo, ci_mean_hi = classical_confidence_interval_of_mean(C_p_list)\n",
    "    \n",
    "    ax_line.plot(unknown.data_df.index, unknown.data_df.norm)\n",
    "    ax_box.boxplot(C_p_list, notch=True)\n",
    "    ax_box.scatter((1, 1), (ci_mean_lo, ci_mean_hi))\n",
    "    ax_hist.hist(C_p_list, orientation='horizontal', bins=20)\n",
    "\n",
    "    return ax_line, ax_box, ax_hist\n",
    "\n",
    "ax_line_1000, ax_box_1000, ax_hist_1000 = three_plots(unknown_0, normalized_C_p_list[:1000])\n",
    "ax_line_100, ax_box_100, ax_hist_100 = three_plots(\n",
    "    unknown_0, normalized_C_p_list[:100], hist_ylim=ax_hist_1000.get_ylim()\n",
    ")\n",
    "ax_line_1, ax_box_1, ax_hist_1 = three_plots(\n",
    "    unknown_0, normalized_C_p_list[:10], hist_ylim=ax_hist_1000.get_ylim()\n",
    ")\n",
    "\n",
    "plt.show()"
   ]
  },
  {
   "cell_type": "code",
   "execution_count": null,
   "metadata": {},
   "outputs": [],
   "source": [
    "all_C_p_lists = []\n",
    "for i in range(10):\n",
    "    normalized_C_p_list, model_residuals = fitter.calculate_prediction_error_list(fit_0, n_splits=3000)\n",
    "    all_C_p_lists.append(normalized_C_p_list)\n",
    "\n",
    "plt.boxplot(all_C_p_lists, notch=True)\n",
    "plt.show()"
   ]
  },
  {
   "cell_type": "code",
   "execution_count": null,
   "metadata": {},
   "outputs": [],
   "source": [
    "all_C_p_lists = []\n",
    "normalized_C_p_list, model_residuals = fitter.calculate_prediction_error_list(fit_0, n_splits=2500)\n",
    "for i in range(10, 2000, 100):\n",
    "    all_C_p_lists.append(normalized_C_p_list[:i])\n",
    "\n",
    "plt.boxplot(all_C_p_lists, notch=True)\n",
    "plt.show()"
   ]
  },
  {
   "cell_type": "code",
   "execution_count": null,
   "metadata": {},
   "outputs": [],
   "source": [
    "for i, (predicted_b, train_index, test_index) in enumerate(fitter.fit_and_predict(fit_0, n_splits=3)):\n",
    "    #train_test_ndx = np.random.choice([0, 1], unknown_0.data_df.shape[0], p=[0.2, 0.8])\n",
    "    #predicted_b, train_index, test_index = fitter.fit_and_predict(fit_0)\n",
    "    print(unknown_0.data_df.shape)\n",
    "    train_test_ndx = np.zeros((unknown_0.data_df.shape[0]))\n",
    "    #print(train_test_ndx)\n",
    "    #print(test_index)\n",
    "    train_test_ndx[test_index] = 1\n",
    "    f, ax = plt.subplots(1, 3)\n",
    "    #ax[0].plot(unknown_0.data_df.index, unknown_0.data_df.norm)\n",
    "    ax[0].scatter(\n",
    "        unknown_0.data_df.index.values[train_index],\n",
    "        unknown_0.data_df.norm.values[train_index],\n",
    "        #c=train_test_ndx, # this was used before plotting a line\n",
    "        c='blue',\n",
    "        marker='.'\n",
    "    )\n",
    "    \n",
    "    ax[0].scatter(\n",
    "        unknown_0.data_df.index.values[test_index],\n",
    "        unknown_0.data_df.norm.values[test_index],\n",
    "        #c=train_test_ndx, # this was used before plotting a line\n",
    "        c='orange',\n",
    "        marker='.'\n",
    "    )\n",
    "    #ax[1].hist()\n",
    "    plt.show()"
   ]
  },
  {
   "cell_type": "code",
   "execution_count": null,
   "metadata": {},
   "outputs": [],
   "source": []
  }
 ],
 "metadata": {
  "anaconda-cloud": {},
  "kernelspec": {
   "display_name": "Python 3 (ipykernel)",
   "language": "python",
   "name": "python3"
  },
  "language_info": {
   "codemirror_mode": {
    "name": "ipython",
    "version": 3
   },
   "file_extension": ".py",
   "mimetype": "text/x-python",
   "name": "python",
   "nbconvert_exporter": "python",
   "pygments_lexer": "ipython3",
   "version": "3.8.12"
  }
 },
 "nbformat": 4,
 "nbformat_minor": 1
}
