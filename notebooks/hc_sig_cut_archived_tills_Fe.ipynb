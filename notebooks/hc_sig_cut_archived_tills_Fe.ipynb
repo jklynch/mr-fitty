{
 "cells": [
  {
   "cell_type": "markdown",
   "metadata": {},
   "source": [
    "Try setting OPM_NUM_THREADS=1."
   ]
  },
  {
   "cell_type": "code",
   "execution_count": null,
   "metadata": {},
   "outputs": [],
   "source": [
    "import glob\n",
    "import itertools\n",
    "import logging\n",
    "from operator import attrgetter\n",
    "import os\n",
    "import pprint\n",
    "import time\n",
    "\n",
    "import matplotlib.pyplot as plt\n",
    "%matplotlib inline\n",
    "import scipy.misc\n",
    "\n",
    "import numpy as np\n",
    "import pandas as pd\n",
    "import scipy.cluster.hierarchy as hc\n",
    "from scipy.spatial.distance import pdist\n",
    "\n",
    "import sklearn.utils\n",
    "\n",
    "from mrfitty.base import ReferenceSpectrum\n",
    "from mrfitty.base import InterpolatedSpectrumSet\n",
    "\n",
    "logging.basicConfig(level=logging.WARN)"
   ]
  },
  {
   "cell_type": "code",
   "execution_count": null,
   "metadata": {},
   "outputs": [],
   "source": [
    "iron_archived_cores_data_dir_path = '/home/jlynch/host/project/th_sln/archived_tills_for_trees_Jan_30_2017/'\n",
    "os.path.exists(iron_archived_cores_data_dir_path)"
   ]
  },
  {
   "cell_type": "markdown",
   "metadata": {},
   "source": [
    "Read all iron spectra in the core directories."
   ]
  },
  {
   "cell_type": "code",
   "execution_count": null,
   "metadata": {},
   "outputs": [],
   "source": [
    "iron_archived_reference_glob = os.path.join(iron_archived_cores_data_dir_path, 'Fe_references/*.e')\n",
    "print('references glob: {}'.format(iron_archived_reference_glob))\n",
    "iron_archived_cores_spectrum_glob = os.path.join(iron_archived_cores_data_dir_path, '*/*_Fe_XANES/*.e')\n",
    "print('cores glob: {}'.format(iron_archived_cores_spectrum_glob))"
   ]
  },
  {
   "cell_type": "code",
   "execution_count": null,
   "metadata": {},
   "outputs": [],
   "source": [
    "iron_archived_reference_list, _ = list(ReferenceSpectrum.read_all([iron_archived_reference_glob]))\n",
    "print('refrence count: {}'.format(len(iron_archived_reference_list)))\n",
    "iron_archived_cores_spectrum_list, _ = list(ReferenceSpectrum.read_all([iron_archived_cores_spectrum_glob]))\n",
    "print('core spectrum count: {}'.format(len(iron_archived_cores_spectrum_list)))"
   ]
  },
  {
   "cell_type": "markdown",
   "metadata": {},
   "source": [
    "What are the maximum and minimum reference energies?"
   ]
  },
  {
   "cell_type": "code",
   "execution_count": null,
   "metadata": {},
   "outputs": [],
   "source": [
    "reference_min_energy = np.max([r.data_df.energy.values[0] for r in iron_archived_reference_list])\n",
    "reference_max_energy = np.min([r.data_df.energy.values[-1] for r in iron_archived_reference_list])\n",
    "print('reference minimum energy: {:5.2f}'.format(reference_min_energy))\n",
    "print('reference maximum energy: {:5.2f}'.format(reference_max_energy))"
   ]
  },
  {
   "cell_type": "markdown",
   "metadata": {},
   "source": [
    "What are the maximum and minimum core spectrum energies?"
   ]
  },
  {
   "cell_type": "code",
   "execution_count": null,
   "metadata": {},
   "outputs": [],
   "source": [
    "min_energy = np.max([r.data_df.energy.values[0] for r in iron_archived_cores_spectrum_list])\n",
    "max_energy = np.min([r.data_df.energy.values[-1] for r in iron_archived_cores_spectrum_list])\n",
    "print('minimum energy: {:5.2f}'.format(min_energy))\n",
    "print('maximum energy: {:5.2f}'.format(max_energy))"
   ]
  },
  {
   "cell_type": "code",
   "execution_count": null,
   "metadata": {},
   "outputs": [],
   "source": [
    "interpolate_energy_range = np.linspace(start=7100.0, stop=7250.0, num=200)\n",
    "print('interpolate_energy_range.shape: {}'.format(interpolate_energy_range.shape))\n",
    "print('interpolate_energy_range:\\n{}'.format(pprint.pformat(interpolate_energy_range.tolist()[:10])))"
   ]
  },
  {
   "cell_type": "code",
   "execution_count": null,
   "metadata": {},
   "outputs": [],
   "source": [
    "# interpolate references and spectra in one data frame because concatentating data frames with a \n",
    "# floating point index is not working for me\n",
    "interpolated_iron_archived_ref_and_cores_df = InterpolatedSpectrumSet.get_interpolated_spectrum_set_df(\n",
    "    energy_range=interpolate_energy_range,\n",
    "    spectrum_set=set(itertools.chain(iron_archived_reference_list, iron_archived_cores_spectrum_list)))\n",
    "interpolated_iron_archived_ref_and_cores_df.plot().legend(loc='center left', bbox_to_anchor=(1, 0.5))\n",
    "interpolated_iron_archived_ref_and_cores_df.head()"
   ]
  },
  {
   "cell_type": "code",
   "execution_count": null,
   "metadata": {},
   "outputs": [],
   "source": [
    "def permute_row_elements(df):\n",
    "    for i in range(df.shape[0]):\n",
    "        df.values[i, :] = sklearn.utils.shuffle(df.values[i, :])\n",
    "    return df\n",
    "# demonstrate permuting row elements\n",
    "x_df = pd.DataFrame(data=np.array(range(9)).reshape((3,3)))\n",
    "print('before permuting row elements:')\n",
    "print(x_df.head())\n",
    "permute_row_elements(x_df)\n",
    "print('after permuting row elements:')\n",
    "print(x_df)"
   ]
  },
  {
   "cell_type": "code",
   "execution_count": null,
   "metadata": {},
   "outputs": [],
   "source": [
    "def cluster_with_sig_cut(variable_by_sample_df, title, pdist_metric, linkage_method):\n",
    "    #pdist_metric = 'correlation'\n",
    "    distance_for_sample_pairs = pdist(X=np.transpose(variable_by_sample_df.values), metric=pdist_metric)\n",
    "    print('{}: {} sample pairs'.format(title, len(distance_for_sample_pairs)))\n",
    "    plt.figure()\n",
    "    plt.title(title)\n",
    "    plt.hist(distance_for_sample_pairs)\n",
    "    plt.xlabel('{} distance'.format(pdist_metric))\n",
    "    plt.ylabel('{} pairs'.format(variable_by_sample_df.shape))\n",
    "    plt.show()\n",
    "\n",
    "    resample_count = 1000\n",
    "    expected_distance_list = []\n",
    "    for i in range(resample_count):\n",
    "        # permute the elements of each row of variable_by_sample_df\n",
    "        p_variable_by_sample_df = permute_row_elements(variable_by_sample_df.copy())\n",
    "        p_distance_for_sample_pairs = pdist(X=np.transpose(p_variable_by_sample_df.values), metric=pdist_metric)\n",
    "        p_linkage_distance_variable_by_sample = hc.linkage(y=p_distance_for_sample_pairs, method=linkage_method)\n",
    "        p_dendrogram = hc.dendrogram(Z=p_linkage_distance_variable_by_sample, no_plot=True)\n",
    "        expected_distance_list.extend([d for (_, _, d, _) in p_dendrogram['dcoord']])\n",
    "\n",
    "    p = 95.0\n",
    "    alpha = 1.0 - p/100.0\n",
    "    cutoff_distance = np.percentile(expected_distance_list, q=p)\n",
    "    print('cutoff distance is {}'.format(cutoff_distance))\n",
    "\n",
    "    plt.figure()\n",
    "    plt.hist(expected_distance_list)\n",
    "    plt.title('dendrogram distance null distribution')\n",
    "    plt.show()\n",
    "\n",
    "    linkage_distance_variable_by_sample = hc.linkage(y=distance_for_sample_pairs, method=linkage_method)\n",
    "    plt.figure(figsize=(3.7, 7))\n",
    "    dendrogram = hc.dendrogram(\n",
    "        Z=linkage_distance_variable_by_sample,\n",
    "        orientation='left',\n",
    "        labels=variable_by_sample_df.columns)\n",
    "    \n",
    "    icoords = [i for i in itertools.chain(dendrogram['icoord'])]\n",
    "    \n",
    "    plt.vlines(cutoff_distance, ymin=np.min(icoords), ymax=np.max(icoords))\n",
    "    plt.title('{}\\n{} linkage'.format(title, linkage_method))\n",
    "    plt.xlabel('{} distance'.format(pdist_metric))\n",
    "    plt.savefig(title + '.pdf', format='pdf')\n",
    "    plt.show()\n",
    "    \n"
   ]
  },
  {
   "cell_type": "code",
   "execution_count": null,
   "metadata": {},
   "outputs": [],
   "source": [
    "for core in ['OTT3', 'TG3', 'UMRB2']:\n",
    "    # combine core and references\n",
    "    ref_column_list = tuple([c for c in interpolated_iron_archived_ref_and_cores_df.columns if 'standard' in c])\n",
    "    print('reference column list has {} elements:\\n{}'.format(len(ref_column_list), pprint.pformat(ref_column_list)))\n",
    "    core_column_list = tuple([c for c in interpolated_iron_archived_ref_and_cores_df.columns if core in c])\n",
    "    print('core {} column list has {} elements:\\n{}'.format(core, len(core_column_list), pprint.pformat(core_column_list)))\n",
    "    core_interpolated_iron_archived_df = interpolated_iron_archived_ref_and_cores_df.loc[:, core_column_list]\n",
    "    core_interpolated_iron_archived_df.plot().legend(loc='center left', bbox_to_anchor=(1, 0.5))\n",
    "    core_interpolated_iron_archived_df.head()\n",
    "\n",
    "    core_and_ref_column_list = tuple(itertools.chain(core_column_list, ref_column_list))\n",
    "    core_and_ref_interpolated_iron_archived_df = interpolated_iron_archived_ref_and_cores_df.loc[:, core_and_ref_column_list]\n",
    "    core_and_ref_interpolated_iron_archived_df.plot().legend(loc='center left', bbox_to_anchor=(1, 0.5))\n",
    "    core_and_ref_interpolated_iron_archived_df.head()\n",
    "\n",
    "    cluster_with_sig_cut(\n",
    "        core_interpolated_iron_archived_df,\n",
    "        title='Fe core {} ({} spectra)'.format(core, core_interpolated_iron_archived_df.shape[1]),\n",
    "        pdist_metric='correlation',\n",
    "        linkage_method='complete')\n",
    "\n",
    "    cluster_with_sig_cut(\n",
    "        core_and_ref_interpolated_iron_archived_df,\n",
    "        title='Fe core {} and references ({} spectra)'.format(core, core_and_ref_interpolated_iron_archived_df.shape[1]),\n",
    "        pdist_metric='correlation',\n",
    "        linkage_method='complete')\n"
   ]
  },
  {
   "cell_type": "code",
   "execution_count": null,
   "metadata": {},
   "outputs": [],
   "source": [
    "# all cores\n",
    "ref_column_list = tuple([c for c in interpolated_iron_archived_ref_and_cores_df.columns if 'standard' in c])\n",
    "print('reference column list has {} elements:\\n{}'.format(len(ref_column_list), pprint.pformat(ref_column_list)))\n",
    "\n",
    "core_column_list = tuple([c for c in interpolated_iron_archived_ref_and_cores_df.columns if 'standard' not in c])\n",
    "print('all cores column list has {} elements:\\n{}'.format(core, len(core_column_list), pprint.pformat(core_column_list)))\n",
    "core_interpolated_iron_archived_df = interpolated_iron_archived_ref_and_cores_df.loc[:, core_column_list]\n",
    "core_interpolated_iron_archived_df.plot().legend(loc='center left', bbox_to_anchor=(1, 0.5))\n",
    "core_interpolated_iron_archived_df.head()\n",
    "\n",
    "core_and_ref_column_list = tuple(itertools.chain(core_column_list, ref_column_list))\n",
    "core_and_ref_interpolated_iron_archived_df = interpolated_iron_archived_ref_and_cores_df.loc[:, core_and_ref_column_list]\n",
    "core_and_ref_interpolated_iron_archived_df.plot().legend(loc='center left', bbox_to_anchor=(1, 0.5))\n",
    "core_and_ref_interpolated_iron_archived_df.head()\n",
    "\n",
    "cluster_with_sig_cut(\n",
    "    core_interpolated_iron_archived_df,\n",
    "    title='Fe all cores({} spectra)'.format(core_interpolated_iron_archived_df.shape[1]),\n",
    "    pdist_metric='correlation',\n",
    "    linkage_method='complete')\n",
    "\n",
    "cluster_with_sig_cut(\n",
    "    core_and_ref_interpolated_iron_archived_df,\n",
    "    title='Fe all cores and references ({} spectra)'.format(core_and_ref_interpolated_iron_archived_df.shape[1]),\n",
    "    pdist_metric='correlation',\n",
    "    linkage_method='complete')\n"
   ]
  },
  {
   "cell_type": "code",
   "execution_count": null,
   "metadata": {},
   "outputs": [],
   "source": []
  }
 ],
 "metadata": {
  "anaconda-cloud": {},
  "kernelspec": {
   "display_name": "Python 3",
   "language": "python",
   "name": "python3"
  },
  "language_info": {
   "codemirror_mode": {
    "name": "ipython",
    "version": 3
   },
   "file_extension": ".py",
   "mimetype": "text/x-python",
   "name": "python",
   "nbconvert_exporter": "python",
   "pygments_lexer": "ipython3",
   "version": "3.6.0"
  }
 },
 "nbformat": 4,
 "nbformat_minor": 1
}
